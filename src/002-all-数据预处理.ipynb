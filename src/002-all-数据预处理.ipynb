{
 "cells": [
  {
   "cell_type": "code",
   "execution_count": 1,
   "id": "d658eb66",
   "metadata": {},
   "outputs": [],
   "source": [
    "import utils\n",
    "import os\n",
    "import pandas as pd"
   ]
  },
  {
   "cell_type": "code",
   "execution_count": 2,
   "id": "ae249529",
   "metadata": {},
   "outputs": [],
   "source": [
    "cancer_names = ['ACC']\n",
    "indicators = ['CNV', 'DNA_methylation', 'miRNA', 'RNA_Seq']"
   ]
  },
  {
   "cell_type": "code",
   "execution_count": null,
   "id": "13809707",
   "metadata": {},
   "outputs": [
    {
     "name": "stdout",
     "output_type": "stream",
     "text": [
      "(90, 24776)\n",
      "ACC_CNV 当前阈值: 0.7, 原始数据形状(90, 24776)筛选出的特征 (90, 69)\n",
      "ACC_CNV 当前阈值: 0.8, 原始数据形状(90, 24776)筛选出的特征 (90, 125)\n",
      "ACC_CNV 当前阈值: 0.85, 原始数据形状(90, 24776)筛选出的特征 (90, 205)\n",
      "ACC_CNV 当前阈值: 0.9, 原始数据形状(90, 24776)筛选出的特征 (90, 362)\n",
      "(80, 485577)\n",
      "ACC_DNA_methylation 当前阈值: 0.7, 原始数据形状(80, 25000)筛选出的特征 (80, 10733)\n",
      "ACC_DNA_methylation 当前阈值: 0.8, 原始数据形状(80, 25000)筛选出的特征 (80, 18577)\n",
      "ACC_DNA_methylation 当前阈值: 0.85, 原始数据形状(80, 25000)筛选出的特征 (80, 21267)\n",
      "ACC_DNA_methylation 当前阈值: 0.9, 原始数据形状(80, 25000)筛选出的特征 (80, 22961)\n",
      "(79, 1952)\n",
      "ACC_miRNA 当前阈值: 0.7, 原始数据形状(79, 1952)筛选出的特征 (79, 267)\n",
      "ACC_miRNA 当前阈值: 0.8, 原始数据形状(79, 1952)筛选出的特征 (79, 292)\n",
      "ACC_miRNA 当前阈值: 0.85, 原始数据形状(79, 1952)筛选出的特征 (79, 307)\n",
      "ACC_miRNA 当前阈值: 0.9, 原始数据形状(79, 1952)筛选出的特征 (79, 335)\n",
      "(79, 20530)\n",
      "ACC_RNA_Seq 当前阈值: 0.7, 原始数据形状(79, 20530)筛选出的特征 (79, 14432)\n",
      "ACC_RNA_Seq 当前阈值: 0.8, 原始数据形状(79, 20530)筛选出的特征 (79, 18491)\n",
      "ACC_RNA_Seq 当前阈值: 0.85, 原始数据形状(79, 20530)筛选出的特征 (79, 19335)\n",
      "ACC_RNA_Seq 当前阈值: 0.9, 原始数据形状(79, 20530)筛选出的特征 (79, 19849)\n",
      "[(14432, 0.7), (18491, 0.8), (19335, 0.85), (19849, 0.9)]\n"
     ]
    }
   ],
   "source": [
    "for cancer_name in cancer_names:\n",
    "    for indi in indicators:\n",
    "        dp = utils.DataProcessor(cancer_name, indi)\n",
    "        return_list = dp.sort_corr_(threshold=(0.7, 0.8, 0.85, 0.9))\n",
    "        print(return_list)\n",
    "    path = os.path.join(\"..\", \"dataset\", cancer_name)\n",
    "    survial_data = pd.read_csv(path+'/surival',  sep=\"\\t\", index_col=0)\n",
    "    survial_data.iloc[:, :3].to_csv(path + '/surival'+'_2', index=True)\n",
    "    print('生存数据样本数 {}'.format(survial_data.shape[0]))\n",
    "    \n",
    "    df_cnv = pd.read_csv(path + '/CNV' , sep=\"\\t\", index_col=0).T\n",
    "    df_dna = pd.read_csv(path + \"/DNA_methylation\", sep=\"\\t\", index_col=0).T\n",
    "    df_mirna = pd.read_csv(path + \"/miRNA\", sep=\"\\t\", index_col=0).T\n",
    "    df_rna = pd.read_csv(path + \"/RNA_Seq\", sep=\"\\t\", index_col=0).T\n",
    "    df_sur = pd.read_csv(path + \"/survival\", sep=\"\\t\", index_col=0)\n",
    "\n",
    "    # 找到所有数据集的 病人交集\n",
    "    common_patients = (\n",
    "        set(df_cnv.index)\n",
    "        .intersection(df_dna.index)\n",
    "        .intersection(df_mirna.index)\n",
    "        .intersection(df_rna.index)\n",
    "        .intersection(df_sur.index)\n",
    "    )\n",
    "\n",
    "    common_patients = pd.DataFrame(common_patients)\n",
    "    print(f\"共同病人数量: {len(common_patients)}\")\n",
    "    common_patients.to_csv(path + '/common_patients') # 保存共同的病人编号"
   ]
  }
 ],
 "metadata": {
  "kernelspec": {
   "display_name": "d2l",
   "language": "python",
   "name": "python3"
  },
  "language_info": {
   "codemirror_mode": {
    "name": "ipython",
    "version": 3
   },
   "file_extension": ".py",
   "mimetype": "text/x-python",
   "name": "python",
   "nbconvert_exporter": "python",
   "pygments_lexer": "ipython3",
   "version": "3.12.10"
  }
 },
 "nbformat": 4,
 "nbformat_minor": 5
}
