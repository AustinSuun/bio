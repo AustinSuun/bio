{
 "cells": [
  {
   "cell_type": "code",
   "execution_count": 10,
   "id": "05734228",
   "metadata": {},
   "outputs": [],
   "source": [
    "import pandas as pd\n",
    "import os\n",
    "from sklearn.impute import KNNImputer\n",
    "import numpy as np\n",
    "import seaborn as sns\n",
    "import matplotlib.pyplot as plt"
   ]
  },
  {
   "cell_type": "markdown",
   "id": "d44c08a1",
   "metadata": {},
   "source": [
    "### 处理缺失数据\n",
    "去除超过20%缺失值的特征，其余缺失值使用knn方法填充\n",
    "只有mi RNA和DNA甲基化需要处理"
   ]
  },
  {
   "cell_type": "code",
   "execution_count": 24,
   "id": "128e2b42",
   "metadata": {},
   "outputs": [],
   "source": [
    "cancer_name = \"ACC\"  # 癌症名称\n",
    "indicator = \"miRNA\"  # 指标\n",
    "#indicator = \"DNA_methylation\"  # 指标"
   ]
  },
  {
   "cell_type": "code",
   "execution_count": 25,
   "id": "fbb6e4cd",
   "metadata": {},
   "outputs": [],
   "source": [
    "path = os.path.join(\"..\", \"dataset\", cancer_name, indicator)\n",
    "df = pd.read_csv(path, sep=\"\\t\", index_col=0).T"
   ]
  },
  {
   "cell_type": "code",
   "execution_count": 26,
   "id": "7544135a",
   "metadata": {},
   "outputs": [
    {
     "data": {
      "text/plain": [
       "'sns.heatmap(df.isna(), cbar=False, cmap=\"viridis\")\\nplt.title(\"Missing Values Heatmap\")\\nplt.show()'"
      ]
     },
     "execution_count": 26,
     "metadata": {},
     "output_type": "execute_result"
    }
   ],
   "source": [
    "\n",
    "# 查看缺失值\n",
    "'''sns.heatmap(df.isna(), cbar=False, cmap=\"viridis\")\n",
    "plt.title(\"Missing Values Heatmap\")\n",
    "plt.show()'''"
   ]
  },
  {
   "cell_type": "code",
   "execution_count": 27,
   "id": "046a9277",
   "metadata": {},
   "outputs": [],
   "source": [
    "# 设置阈值，比如缺失超过 20% 的列就删掉\n",
    "threshold = 0.2\n",
    "\n",
    "# 每列缺失比例\n",
    "missing_ratio = df.isna().mean()\n",
    "\n",
    "# 保留缺失比例 <= 20% 的列\n",
    "df_filtered = df.loc[:, missing_ratio <= threshold]\n",
    "\n",
    "df_numeric = df_filtered.select_dtypes(include=[np.number])\n",
    "\n",
    "# 创建插补器对象\n",
    "imputer = KNNImputer(n_neighbors=5)  # 5个最近邻\n",
    "\n",
    "# 拟合并转换\n",
    "arr_filled = imputer.fit_transform(df_numeric)\n",
    "\n",
    "df_filled = pd.DataFrame(arr_filled, index=df_numeric.index, columns=df_numeric.columns)\n",
    "\n",
    "\n",
    "path = os.path.join(\"..\", \"dataset\", cancer_name, indicator+'_filled')\n",
    "df_filled.T.to_csv(path, sep='\\t')"
   ]
  },
  {
   "cell_type": "code",
   "execution_count": 22,
   "id": "4a95b8e7",
   "metadata": {},
   "outputs": [],
   "source": [
    "cancer_name = \"ACC\"  # 癌症名称\n",
    "indicator = \"RNA_Seq\"  # 指标\n",
    "# indicator = \"DNA_methylation\"  # 指标\n",
    "path = os.path.join(\"..\", \"dataset\", cancer_name, indicator)\n",
    "df = pd.read_csv(path, sep=\"\\t\", index_col=0)\n",
    "\n",
    "df_nozero = df.where(df != 0, 1e-3)\n",
    "df_log = np.log1p(df_nozero)\n",
    "\n",
    "df_ = pd.DataFrame(df_log, index=df.index, columns=df.columns)\n",
    "\n",
    "path = os.path.join(\"..\", \"dataset\", cancer_name, indicator + \"_filled\")\n",
    "df_.to_csv(path, sep=\"\\t\")"
   ]
  },
  {
   "cell_type": "code",
   "execution_count": 24,
   "id": "5a70586a",
   "metadata": {},
   "outputs": [
    {
     "data": {
      "text/plain": [
       "np.int64(0)"
      ]
     },
     "execution_count": 24,
     "metadata": {},
     "output_type": "execute_result"
    }
   ],
   "source": [
    "(df_==0).sum().sum()"
   ]
  },
  {
   "cell_type": "code",
   "execution_count": 26,
   "id": "511386d4",
   "metadata": {},
   "outputs": [],
   "source": [
    "path = os.path.join(\"..\", \"dataset\", cancer_name, indicator+'_filled_18848_0.8')\n",
    "df = pd.read_csv(path, index_col=0)"
   ]
  },
  {
   "cell_type": "code",
   "execution_count": 27,
   "id": "889948d4",
   "metadata": {},
   "outputs": [
    {
     "data": {
      "text/plain": [
       "np.int64(210510)"
      ]
     },
     "execution_count": 27,
     "metadata": {},
     "output_type": "execute_result"
    }
   ],
   "source": [
    "(df==0).sum().sum()"
   ]
  },
  {
   "cell_type": "code",
   "execution_count": 20,
   "id": "3705567d",
   "metadata": {},
   "outputs": [
    {
     "data": {
      "text/plain": [
       "TCGA-OR-A5LC-01    730\n",
       "TCGA-OR-A5JJ-01    730\n",
       "TCGA-OR-A5K3-01    730\n",
       "TCGA-PK-A5HA-01    730\n",
       "TCGA-OR-A5LN-01    730\n",
       "                  ... \n",
       "TCGA-OR-A5KX-01    730\n",
       "TCGA-OR-A5L5-01    730\n",
       "TCGA-P6-A5OG-01    730\n",
       "TCGA-OR-A5LR-01    730\n",
       "TCGA-OR-A5LT-01    730\n",
       "Length: 79, dtype: int64"
      ]
     },
     "execution_count": 20,
     "metadata": {},
     "output_type": "execute_result"
    }
   ],
   "source": [
    "df.isna().sum(axis=1)"
   ]
  }
 ],
 "metadata": {
  "kernelspec": {
   "display_name": "d2l",
   "language": "python",
   "name": "python3"
  },
  "language_info": {
   "codemirror_mode": {
    "name": "ipython",
    "version": 3
   },
   "file_extension": ".py",
   "mimetype": "text/x-python",
   "name": "python",
   "nbconvert_exporter": "python",
   "pygments_lexer": "ipython3",
   "version": "3.12.10"
  }
 },
 "nbformat": 4,
 "nbformat_minor": 5
}
