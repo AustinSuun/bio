{
 "cells": [
  {
   "cell_type": "code",
   "execution_count": 6,
   "id": "76bc527e",
   "metadata": {},
   "outputs": [],
   "source": [
    "import utils\n",
    "import torch\n",
    "import pandas as pd\n",
    "import os"
   ]
  },
  {
   "cell_type": "code",
   "execution_count": 7,
   "id": "9b1de813",
   "metadata": {},
   "outputs": [],
   "source": [
    "data_dict =  {\n",
    "         \"ACC\": [\n",
    "        #     \"CNV_776_0.95\",\n",
    "        #     \"miRNA_filled_476_0.95\",\n",
    "        #     \"DNA_methylation_filled_24153_0.95\",\n",
    "            \"RNA_Seq_filled_18848_0.8\",\n",
    "        ]\n",
    "    }"
   ]
  },
  {
   "cell_type": "code",
   "execution_count": 8,
   "id": "e28d3433",
   "metadata": {},
   "outputs": [
    {
     "name": "stdout",
     "output_type": "stream",
     "text": [
      "当前组学 RNA_Seq_filled_18848_0.8, 读取数据，形状 (76, 18848)\n",
      "Epoch   0: val_loss = nan\n",
      "Epoch  50: val_loss = nan\n",
      "Epoch  99: val_loss = nan\n",
      "model save at ../model/ACC/RNA_Seq_filled_18848_0.8\n",
      "\n"
     ]
    }
   ],
   "source": [
    "utils.train_model(data_dict, utils.ProgCAE1D_2)"
   ]
  },
  {
   "cell_type": "code",
   "execution_count": 4,
   "id": "ee79456b",
   "metadata": {},
   "outputs": [
    {
     "name": "stdout",
     "output_type": "stream",
     "text": [
      "当前组学 CNV_776_0.95, 读取数据，形状 (76, 776)\n",
      "Epoch   0: val_loss = 0.047436\n",
      "Epoch  50: val_loss = 0.021835\n",
      "Epoch  99: val_loss = 0.017100\n",
      "model save at ../model/ACC/CNV_776_0.95\n",
      "\n",
      "当前组学 miRNA_filled_476_0.95, 读取数据，形状 (76, 476)\n",
      "Epoch   0: val_loss = 0.062057\n",
      "Epoch  50: val_loss = 0.041963\n",
      "Epoch  99: val_loss = 0.039796\n",
      "model save at ../model/ACC/miRNA_filled_476_0.95\n",
      "\n",
      "当前组学 DNA_methylation_filled_24153_0.95, 读取数据，形状 (76, 24153)\n",
      "Epoch   0: val_loss = 0.124161\n",
      "Epoch  50: val_loss = 0.108054\n",
      "Epoch  99: val_loss = 0.085667\n",
      "model save at ../model/ACC/DNA_methylation_filled_24153_0.95\n",
      "\n",
      "当前组学 RNA_Seq_20208_0.95, 读取数据，形状 (76, 20208)\n",
      "Epoch   0: val_loss = nan\n",
      "Epoch  50: val_loss = nan\n",
      "Epoch  99: val_loss = nan\n",
      "model save at ../model/ACC/RNA_Seq_20208_0.95\n",
      "\n"
     ]
    }
   ],
   "source": [
    "utils.train_model({\"ACC\": [\"CNV_776_0.95\", \"miRNA_filled_476_0.95\", \"DNA_methylation_filled_24153_0.95\", \"RNA_Seq_20208_0.95\"]}, utils.ProgCAE1D_2)"
   ]
  },
  {
   "cell_type": "code",
   "execution_count": null,
   "id": "7617cac7",
   "metadata": {},
   "outputs": [],
   "source": []
  },
  {
   "cell_type": "code",
   "execution_count": null,
   "id": "502af6a3",
   "metadata": {},
   "outputs": [],
   "source": []
  }
 ],
 "metadata": {
  "kernelspec": {
   "display_name": "d2l",
   "language": "python",
   "name": "python3"
  },
  "language_info": {
   "codemirror_mode": {
    "name": "ipython",
    "version": 3
   },
   "file_extension": ".py",
   "mimetype": "text/x-python",
   "name": "python",
   "nbconvert_exporter": "python",
   "pygments_lexer": "ipython3",
   "version": "3.12.10"
  }
 },
 "nbformat": 4,
 "nbformat_minor": 5
}
